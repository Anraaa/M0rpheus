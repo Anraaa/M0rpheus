{
 "cells": [
  {
   "cell_type": "code",
   "execution_count": 7,
   "metadata": {},
   "outputs": [
    {
     "name": "stdout",
     "output_type": "stream",
     "text": [
      "bilangan positif\n"
     ]
    }
   ],
   "source": [
    "bil = 10\n",
    "if(bil > 0):\n",
    "    print(\"bilangan positif\")\n"
   ]
  },
  {
   "cell_type": "markdown",
   "metadata": {},
   "source": [
    "Penjelasan"
   ]
  },
  {
   "cell_type": "code",
   "execution_count": null,
   "metadata": {},
   "outputs": [],
   "source": [
    "bil = -4\n",
    "if(bil > 0):\n",
    "    print(\"bilangan positif\")\n",
    "else:\n",
    "    print(\"bilangan negatif atau nol\")"
   ]
  },
  {
   "cell_type": "markdown",
   "metadata": {},
   "source": [
    "#"
   ]
  },
  {
   "cell_type": "code",
   "execution_count": null,
   "metadata": {},
   "outputs": [],
   "source": [
    "bil = 0\n",
    "if(bil > 0):\n",
    "    print(\"bilangan positif\")\n",
    "elif(bil > 0:\n",
    "    print(\"bilangan negatif\") \n",
    "else:\n",
    "    print(\"bilangan nol\")"
   ]
  },
  {
   "cell_type": "markdown",
   "metadata": {},
   "source": []
  },
  {
   "cell_type": "code",
   "execution_count": null,
   "metadata": {},
   "outputs": [],
   "source": [
    "a = -2\n",
    "b = -7\n",
    "if (a > 0) and (b > 0):\n",
    "    print(\"keduanya positif\")\n",
    "elif (a > 0) or (b > 0)\n",
    "    print (\"salah satunya positif\")\n",
    "elif (a < 0) or (b < 0):\n",
    "    print (\"salah satunya negatif\")\n",
    "elif (a < 0) and (b < 0):\n",
    "    print (\"keduanya negatif\")\n",
    "    "
   ]
  },
  {
   "cell_type": "markdown",
   "metadata": {},
   "source": []
  },
  {
   "cell_type": "code",
   "execution_count": null,
   "metadata": {},
   "outputs": [],
   "source": [
    "a = -2 \n",
    "b = -7\n",
    "if (a > 0) and (b > 0):\n",
    "    print(\"keduanya positif\")\n",
    "if (a > 0) or (b > 0):\n",
    "    print(\"salah satunya positif\")\n",
    "if (a < 0) or (b < 0):\n",
    "    print(\"salah satunya negatif\")\n",
    "if (a < 0) and (b < 0):\n",
    "    print(\"keduanya negatif\")\n"
   ]
  },
  {
   "cell_type": "markdown",
   "metadata": {},
   "source": []
  },
  {
   "cell_type": "code",
   "execution_count": null,
   "metadata": {},
   "outputs": [],
   "source": [
    "A = 8\n",
    "B = 3\n",
    "if (a > b) :\n",
    "    if (b > 0):\n",
    "        print(\" keduanya positif\")\n",
    "    else:\n",
    "        print(\"keduanya tidak positif\")\n",
    "else:\n",
    "    print (\"keduanya tidak positif\")"
   ]
  }
 ],
 "metadata": {
  "kernelspec": {
   "display_name": "Python 3",
   "language": "python",
   "name": "python3"
  },
  "language_info": {
   "codemirror_mode": {
    "name": "ipython",
    "version": 3
   },
   "file_extension": ".py",
   "mimetype": "text/x-python",
   "name": "python",
   "nbconvert_exporter": "python",
   "pygments_lexer": "ipython3",
   "version": "3.10.12"
  }
 },
 "nbformat": 4,
 "nbformat_minor": 2
}
