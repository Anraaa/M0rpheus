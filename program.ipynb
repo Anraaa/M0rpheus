{
 "cells": [
  {
   "cell_type": "code",
   "execution_count": 7,
   "metadata": {},
   "outputs": [
    {
     "name": "stdout",
     "output_type": "stream",
     "text": [
      "bilangan positif\n"
     ]
    }
   ],
   "source": [
    "bil = 10\n",
    "if(bil > 0):\n",
    "    print(\"bilangan positif\")\n"
   ]
  },
  {
   "cell_type": "markdown",
   "metadata": {},
   "source": [
    "bil = 10: Mendeklarasikan variabel bil dan menginisialisasinya dengan nilai 10.\n",
    "if(bil > 0):: Memeriksa apakah nilai bil lebih besar dari 0.\n",
    "print(\"bilangan positif\"): Jika kondisi bil > 0 terpenuhi, maka program akan mencetak \"bilangan positif\".\n",
    "Karena nilai bil adalah 10, yang lebih besar dari 0, maka output dari program ini adalah \"bilangan positif\"."
   ]
  },
  {
   "cell_type": "code",
   "execution_count": 3,
   "metadata": {},
   "outputs": [
    {
     "name": "stdout",
     "output_type": "stream",
     "text": [
      "bilangan negatif atau nol\n"
     ]
    }
   ],
   "source": [
    "bil = -4\n",
    "if(bil > 0):\n",
    "    print(\"bilangan positif\")\n",
    "else:\n",
    "    print(\"bilangan negatif atau nol\")"
   ]
  },
  {
   "cell_type": "markdown",
   "metadata": {},
   "source": [
    "bil = -4: Mendeklarasikan variabel bil dan menginisialisasinya dengan nilai -4.\n",
    "if(bil > 0):: Memeriksa apakah nilai bil lebih besar dari 0.\n",
    "print(\"bilangan positif\"): Jika kondisi bil > 0 terpenuhi, maka program akan mencetak \"bilangan positif\".\n",
    "else:: Jika kondisi bil > 0 tidak terpenuhi, maka blok kode di dalam else akan dijalankan.\n",
    "print(\"bilangan negatif atau nol\"): Jika kondisi bil > 0 tidak terpenuhi, maka program akan mencetak \"bilangan negatif atau nol\".\n",
    "\n",
    "Karena nilai bil adalah -4, yang tidak lebih besar dari 0, maka output dari program ini adalah \"bilangan negatif atau nol\"."
   ]
  },
  {
   "cell_type": "code",
   "execution_count": 2,
   "metadata": {},
   "outputs": [
    {
     "name": "stdout",
     "output_type": "stream",
     "text": [
      "bilangan nol\n"
     ]
    }
   ],
   "source": [
    "bil = 0\n",
    "if(bil > 0):\n",
    "    print(\"bilangan positif\")\n",
    "elif (bil < 0):\n",
    "    print(\"bilangan negatif\") \n",
    "else:\n",
    "    print(\"bilangan nol\")"
   ]
  },
  {
   "cell_type": "markdown",
   "metadata": {},
   "source": [
    "bil = 0: Mendeklarasikan variabel bil dan menginisialisasinya dengan nilai 0.\n",
    "if(bil > 0):: Memeriksa apakah nilai bil lebih besar dari 0.\n",
    "print(\"bilangan positif\"): Jika kondisi bil > 0 terpenuhi, maka program akan mencetak \"bilangan positif\".\n",
    "elif(bil < 0):: Memeriksa apakah nilai bil lebih kecil dari 0.\n",
    "print(\"bilangan negatif\"): Jika kondisi bil < 0 terpenuhi, maka program akan mencetak \"bilangan negatif\".\n",
    "else:: Jika kondisi bil > 0 dan bil < 0 tidak terpenuhi, maka blok kode di dalam else akan dijalankan.\n",
    "print(\"bilangan nol\"): Jika kondisi bil > 0 dan bil < 0 tidak terpenuhi, maka program akan mencetak \"bilangan nol\"."
   ]
  },
  {
   "cell_type": "code",
   "execution_count": 5,
   "metadata": {},
   "outputs": [
    {
     "name": "stdout",
     "output_type": "stream",
     "text": [
      "salah satunya negatif\n"
     ]
    }
   ],
   "source": [
    "a = -2\n",
    "b = -7\n",
    "if (a > 0) and (b > 0):\n",
    "    print(\"keduanya positif\")\n",
    "elif (a > 0) or (b > 0):\n",
    "    print (\"salah satunya positif\")\n",
    "elif (a < 0) or (b < 0):\n",
    "    print (\"salah satunya negatif\")\n",
    "elif (a < 0) and (b < 0):\n",
    "    print (\"keduanya negatif\")\n",
    "    "
   ]
  },
  {
   "cell_type": "markdown",
   "metadata": {},
   "source": []
  },
  {
   "cell_type": "code",
   "execution_count": 4,
   "metadata": {},
   "outputs": [
    {
     "name": "stdout",
     "output_type": "stream",
     "text": [
      "salah satunya negatif\n",
      "keduanya negatif\n"
     ]
    }
   ],
   "source": [
    "a = -2 \n",
    "b = -7\n",
    "if (a > 0) and (b > 0):\n",
    "    print(\"keduanya positif\")\n",
    "if (a > 0) or (b > 0):\n",
    "    print(\"salah satunya positif\")\n",
    "if (a < 0) or (b < 0):\n",
    "    print(\"salah satunya negatif\")\n",
    "if (a < 0) and (b < 0):\n",
    "    print(\"keduanya negatif\")\n"
   ]
  },
  {
   "cell_type": "markdown",
   "metadata": {},
   "source": []
  },
  {
   "cell_type": "code",
   "execution_count": 6,
   "metadata": {},
   "outputs": [
    {
     "name": "stdout",
     "output_type": "stream",
     "text": [
      "keduanya positif\n"
     ]
    }
   ],
   "source": [
    "a = 8\n",
    "b = 3\n",
    "if (a > 0) and (b > 0):\n",
    "    print(\"keduanya positif\")\n",
    "else:\n",
    "    print(\"keduanya tidak positif\")"
   ]
  },
  {
   "cell_type": "code",
   "execution_count": 7,
   "metadata": {},
   "outputs": [
    {
     "name": "stdout",
     "output_type": "stream",
     "text": [
      " keduanya positif\n"
     ]
    }
   ],
   "source": [
    "A = 8\n",
    "B = 3\n",
    "if (a > b) :\n",
    "    if (b > 0):\n",
    "        print(\" keduanya positif\")\n",
    "    else:\n",
    "        print(\"keduanya tidak positif\")\n",
    "else:\n",
    "    print (\"keduanya tidak positif\")"
   ]
  },
  {
   "cell_type": "markdown",
   "metadata": {},
   "source": []
  }
 ],
 "metadata": {
  "kernelspec": {
   "display_name": "Python 3",
   "language": "python",
   "name": "python3"
  },
  "language_info": {
   "codemirror_mode": {
    "name": "ipython",
    "version": 3
   },
   "file_extension": ".py",
   "mimetype": "text/x-python",
   "name": "python",
   "nbconvert_exporter": "python",
   "pygments_lexer": "ipython3",
   "version": "3.10.12"
  }
 },
 "nbformat": 4,
 "nbformat_minor": 2
}
